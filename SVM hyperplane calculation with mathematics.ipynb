{
 "cells": [
  {
   "cell_type": "code",
   "execution_count": 79,
   "metadata": {},
   "outputs": [],
   "source": [
    "import numpy as np\n",
    "import pandas as pd\n",
    "import math\n",
    "import matplotlib.pyplot as plt"
   ]
  },
  {
   "cell_type": "code",
   "execution_count": 85,
   "metadata": {},
   "outputs": [
    {
     "data": {
      "image/png": "[encoded data removed]",
      "text/plain": [
       "<Figure size 432x288 with 1 Axes>"
      ]
     },
     "metadata": {
      "needs_background": "light"
     },
     "output_type": "display_data"
    }
   ],
   "source": [
    "x=[1,2,1,2,4,5,5,6]\n",
    "y=[1,1,-1,-1,0,1,-1,0]\n",
    "plt.title('Cluster')\n",
    "plt.scatter(x,y)\n",
    "plt.show()"
   ]
  },
  {
   "cell_type": "code",
   "execution_count": 73,
   "metadata": {},
   "outputs": [
    {
     "name": "stdout",
     "output_type": "stream",
     "text": [
      "Enter s1 point x & y 2 1\n",
      "Enter s2 point x & y 2 -1\n",
      "Enter s3 point x & y 4 0\n",
      "Enter s1,s2,s3 signs as +1 or -1:   -1 -1 1\n"
     ]
    }
   ],
   "source": [
    "s1=list(input(\"Enter s1 point x & y \").split())+[1]\n",
    "s2=list(input(\"Enter s2 point x & y \").split())+[1]\n",
    "s3=list(input(\"Enter s3 point x & y \").split())+[1]\n",
    "sign=input(\"Enter s1,s2,s3 signs as +1 or -1:   \").split()"
   ]
  },
  {
   "cell_type": "code",
   "execution_count": 74,
   "metadata": {},
   "outputs": [
    {
     "data": {
      "text/plain": [
       "[array([2, 1, 1]), array([ 2, -1,  1]), array([4, 0, 1])]"
      ]
     },
     "execution_count": 74,
     "metadata": {},
     "output_type": "execute_result"
    }
   ],
   "source": [
    "s1=np.array(s1,dtype=int)\n",
    "s2=np.array(s2,dtype=int)\n",
    "s3=np.array(s3,dtype=int)\n",
    "sign=np.array(sign,dtype=int)\n",
    "s=[s1,s2,s3]\n",
    "s"
   ]
  },
  {
   "cell_type": "code",
   "execution_count": 75,
   "metadata": {},
   "outputs": [
    {
     "name": "stdout",
     "output_type": "stream",
     "text": [
      "[[6, 4, 9], [4, 6, 9], [9, 9, 17]]\n"
     ]
    }
   ],
   "source": [
    "def cofficient_equation(s):\n",
    "    equation_val=[]\n",
    "    for i in range(len(s)):\n",
    "        eq_ent=[]\n",
    "        for j in range(len(s)):\n",
    "            eq=0\n",
    "            eq=(s[i]*s[j]).sum()\n",
    "            eq_ent.append(eq)\n",
    "        equation_val.append(eq_ent)\n",
    "    return equation_val   \n",
    "equation_val=cofficient_equation(s)\n",
    "print(equation_val)"
   ]
  },
  {
   "cell_type": "code",
   "execution_count": 76,
   "metadata": {},
   "outputs": [
    {
     "name": "stdout",
     "output_type": "stream",
     "text": [
      "[-3.25 -3.25  3.5 ]\n"
     ]
    }
   ],
   "source": [
    "def alpha_val(equation_val):\n",
    "    equation_val_inv=np.linalg.inv(equation_val)\n",
    "    alpha=np.matmul(equation_val_inv,sign)\n",
    "    return alpha\n",
    "alpha=alpha_val(equation_val)\n",
    "print(alpha)"
   ]
  },
  {
   "cell_type": "code",
   "execution_count": 77,
   "metadata": {},
   "outputs": [
    {
     "name": "stdout",
     "output_type": "stream",
     "text": [
      "(-3.2500000000000058, '*', 2)\n",
      "(-3.2500000000000044, '*', 2)\n",
      "(3.5000000000000053, '*', 4)\n",
      "(-3.2500000000000058, '*', 1)\n",
      "(-3.2500000000000044, '*', -1)\n",
      "(3.5000000000000053, '*', 0)\n",
      "(-3.2500000000000058, '*', 1)\n",
      "(-3.2500000000000044, '*', 1)\n",
      "(3.5000000000000053, '*', 1)\n",
      "[1.0, -1.3322676295501878e-15, -3.0000000000000053]\n"
     ]
    }
   ],
   "source": [
    "def hyperplane(alpha,s):\n",
    "    values=[]\n",
    "    for i in range(len(alpha)):\n",
    "        val=0\n",
    "        for j in range(len(s)):\n",
    "            val+=alpha[j]*s[j][i]\n",
    "            print(f'{alpha[j],\"*\",s[j][i]}')\n",
    "        values.append(val)\n",
    "    return values\n",
    "hyperplane_value=hyperplane(alpha,s)\n",
    "print(hyperplane_value)"
   ]
  },
  {
   "cell_type": "code",
   "execution_count": 78,
   "metadata": {},
   "outputs": [
    {
     "name": "stdout",
     "output_type": "stream",
     "text": [
      "-3.0000000000000053\n"
     ]
    }
   ],
   "source": [
    "def bias():\n",
    "    bias=hyperplane_value[-1]\n",
    "    return bias\n",
    "print(bias())"
   ]
  },
  {
   "cell_type": "code",
   "execution_count": null,
   "metadata": {},
   "outputs": [],
   "source": []
  }
 ],
 "metadata": {
  "kernelspec": {
   "display_name": "Python 3",
   "language": "python",
   "name": "python3"
  },
  "language_info": {
   "codemirror_mode": {
    "name": "ipython",
    "version": 3
   },
   "file_extension": ".py",
   "mimetype": "text/x-python",
   "name": "python",
   "nbconvert_exporter": "python",
   "pygments_lexer": "ipython3",
   "version": "3.7.4"
  }
 },
 "nbformat": 4,
 "nbformat_minor": 2
}
